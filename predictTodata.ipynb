{
  "nbformat": 4,
  "nbformat_minor": 0,
  "metadata": {
    "colab": {
      "provenance": [],
      "mount_file_id": "1h3OEqRDni_IAim5P24CU3ZVL8ruqxmR5",
      "authorship_tag": "ABX9TyMqQpWISBOyuuvVOPKcaVbV",
      "include_colab_link": true
    },
    "kernelspec": {
      "name": "python3",
      "display_name": "Python 3"
    },
    "language_info": {
      "name": "python"
    }
  },
  "cells": [
    {
      "cell_type": "markdown",
      "metadata": {
        "id": "view-in-github",
        "colab_type": "text"
      },
      "source": [
        "<a href=\"https://colab.research.google.com/github/JeonJeongumggumg/PyTorch/blob/main/predictTodata.ipynb\" target=\"_parent\"><img src=\"https://colab.research.google.com/assets/colab-badge.svg\" alt=\"Open In Colab\"/></a>"
      ]
    },
    {
      "cell_type": "markdown",
      "source": [
        "Training Data를 통해 입력데이터의 정답 출력\n",
        "\n",
        "조건: 입력데이터가 12이하라면 정답이 0, 14이상이라면 정답 1을 출력"
      ],
      "metadata": {
        "id": "gSKglE-AONCc"
      }
    },
    {
      "cell_type": "code",
      "source": [
        "import torch\n",
        "\n",
        "x_train = torch.Tensor([2,4,6,8,10,12,14,16,18,20]).view(10,1) #10행 1열로 reshape\n",
        "y_train = torch.Tensor([0,0,0,0,0,0,1,1,1,1]).view(10,1)\n",
        "\n",
        "print(x_train.shape, y_train.shape)"
      ],
      "metadata": {
        "colab": {
          "base_uri": "https://localhost:8080/"
        },
        "id": "17V3xPIGypag",
        "outputId": "809afb8f-5b09-4cdb-901b-c8be281e3292"
      },
      "execution_count": 1,
      "outputs": [
        {
          "output_type": "stream",
          "name": "stdout",
          "text": [
            "torch.Size([10, 1]) torch.Size([10, 1])\n"
          ]
        }
      ]
    },
    {
      "cell_type": "code",
      "source": [
        "from torch import nn\n",
        "\n",
        "class Model(nn.Module):\n",
        "  def __init__(self):\n",
        "    super().__init__()\n",
        "    self.deeplearning_stack = nn.Sequential(\n",
        "        nn.Linear(1,8), #1개의 입력데이터에 대해 8개의 출력을 내놓는 출력층\n",
        "        nn.Linear(8,1), #8개의 입력데이터에 대해 1개의 출력을 내놓는 출력층\n",
        "        nn.Sigmoid()  #sigmoid 활성화함수\n",
        "    )\n",
        "\n",
        "  def forward(self, data):\n",
        "    prediction = self.deeplearning_stack(data)\n",
        "    return prediction"
      ],
      "metadata": {
        "id": "IWLxnDQwzR9j"
      },
      "execution_count": 2,
      "outputs": []
    },
    {
      "cell_type": "code",
      "source": [
        "deeplearning_model = Model() #모델 인스턴스 생성\n",
        "\n",
        "for name, child in deeplearning_model.named_children(): #모델파라미터(가중치, 바이어스)값 확인\n",
        "  for param in child.parameters():\n",
        "    print(name, param)"
      ],
      "metadata": {
        "colab": {
          "base_uri": "https://localhost:8080/"
        },
        "id": "2tOhO0I70OjW",
        "outputId": "1230665b-fd92-42c1-a663-67252e6367ab"
      },
      "execution_count": 3,
      "outputs": [
        {
          "output_type": "stream",
          "name": "stdout",
          "text": [
            "deeplearning_stack Parameter containing:\n",
            "tensor([[-0.0808],\n",
            "        [ 0.4044],\n",
            "        [-0.5509],\n",
            "        [-0.8902],\n",
            "        [-0.1141],\n",
            "        [-0.9008],\n",
            "        [-0.5470],\n",
            "        [ 0.7171]], requires_grad=True)\n",
            "deeplearning_stack Parameter containing:\n",
            "tensor([-0.5083,  0.6244, -0.2802, -0.3081, -0.9051,  0.9749,  0.3326,  0.5202],\n",
            "       requires_grad=True)\n",
            "deeplearning_stack Parameter containing:\n",
            "tensor([[ 0.2035, -0.1220, -0.2783, -0.1150,  0.3034, -0.2437, -0.1511, -0.2084]],\n",
            "       requires_grad=True)\n",
            "deeplearning_stack Parameter containing:\n",
            "tensor([-0.2737], requires_grad=True)\n"
          ]
        }
      ]
    },
    {
      "cell_type": "markdown",
      "source": [
        "입력층-은닉층 가충치 8개\n",
        "\n",
        "은닉층 바이어스 값 8개\n",
        "\n",
        "은닉층-출력층 가중치 8개\n",
        "\n",
        "출력층 바이어스 1개"
      ],
      "metadata": {
        "id": "dJ0pAUmE0rYQ"
      }
    },
    {
      "cell_type": "code",
      "source": [
        "loss_function = nn.BCELoss() #손실함수는 이진분류이므로 Binary crossEntropy인 BCELoss()\n",
        "\n",
        "optimizer = torch.optim.SGD(deeplearning_model.parameters(), lr=1e-1) #옵티마이저 SGD"
      ],
      "metadata": {
        "id": "q9hTIoGg04sT"
      },
      "execution_count": 4,
      "outputs": []
    },
    {
      "cell_type": "code",
      "source": [
        "nums_epoch = 6000\n",
        "\n",
        "for epoch in range(nums_epoch+1):\n",
        "\n",
        "  outputs = deeplearning_model(x_train) #입력데이터에 대해 예측값 계산\n",
        "\n",
        "  loss = loss_function(outputs, y_train) #모델의 예측값과 정답과의 오차인 손실함수를 계산\n",
        "\n",
        "  optimizer.zero_grad() #역전파코드, 학습이 진행됨에 따라 모델 파라미터를 업뎃하면서 최적화\n",
        "  loss.backward()\n",
        "  optimizer.step()\n",
        "\n",
        "  if epoch % 100 == 0:\n",
        "    print('epoch = ',epoch,'current loss = ', loss.item())"
      ],
      "metadata": {
        "colab": {
          "base_uri": "https://localhost:8080/"
        },
        "id": "sp_6iaeH1Xlk",
        "outputId": "33f2d5b4-6390-4fd4-ce73-62b6bae87cf4"
      },
      "execution_count": 6,
      "outputs": [
        {
          "output_type": "stream",
          "name": "stdout",
          "text": [
            "epoch =  0 current loss =  0.9200114011764526\n",
            "epoch =  100 current loss =  0.3715370297431946\n",
            "epoch =  200 current loss =  0.3014886975288391\n",
            "epoch =  300 current loss =  0.2591528296470642\n",
            "epoch =  400 current loss =  0.23002150654792786\n",
            "epoch =  500 current loss =  0.2084580361843109\n",
            "epoch =  600 current loss =  0.19170425832271576\n",
            "epoch =  700 current loss =  0.1782277524471283\n",
            "epoch =  800 current loss =  0.16709838807582855\n",
            "epoch =  900 current loss =  0.1577156037092209\n",
            "epoch =  1000 current loss =  0.14967183768749237\n",
            "epoch =  1100 current loss =  0.14268004894256592\n",
            "epoch =  1200 current loss =  0.13653060793876648\n",
            "epoch =  1300 current loss =  0.1310696303844452\n",
            "epoch =  1400 current loss =  0.12617790699005127\n",
            "epoch =  1500 current loss =  0.12176255136728287\n",
            "epoch =  1600 current loss =  0.11775077879428864\n",
            "epoch =  1700 current loss =  0.1140848845243454\n",
            "epoch =  1800 current loss =  0.1107175201177597\n",
            "epoch =  1900 current loss =  0.10760913789272308\n",
            "epoch =  2000 current loss =  0.10472825914621353\n",
            "epoch =  2100 current loss =  0.10204698145389557\n",
            "epoch =  2200 current loss =  0.09954410046339035\n",
            "epoch =  2300 current loss =  0.09719805419445038\n",
            "epoch =  2400 current loss =  0.0949934870004654\n",
            "epoch =  2500 current loss =  0.09291611611843109\n",
            "epoch =  2600 current loss =  0.09095428138971329\n",
            "epoch =  2700 current loss =  0.08909078687429428\n",
            "epoch =  2800 current loss =  0.08733445405960083\n",
            "epoch =  2900 current loss =  0.08579472452402115\n",
            "epoch =  3000 current loss =  0.08422014862298965\n",
            "epoch =  3100 current loss =  0.05319281667470932\n",
            "epoch =  3200 current loss =  0.19738489389419556\n",
            "epoch =  3300 current loss =  0.03451569005846977\n",
            "epoch =  3400 current loss =  0.06044720485806465\n",
            "epoch =  3500 current loss =  0.03199382126331329\n",
            "epoch =  3600 current loss =  0.17869901657104492\n",
            "epoch =  3700 current loss =  0.03126925975084305\n",
            "epoch =  3800 current loss =  0.027448061853647232\n",
            "epoch =  3900 current loss =  0.14575263857841492\n",
            "epoch =  4000 current loss =  0.02912692353129387\n",
            "epoch =  4100 current loss =  0.02564818784594536\n",
            "epoch =  4200 current loss =  0.02287987619638443\n",
            "epoch =  4300 current loss =  0.1734660565853119\n",
            "epoch =  4400 current loss =  0.027015602216124535\n",
            "epoch =  4500 current loss =  0.023844752460718155\n",
            "epoch =  4600 current loss =  0.021309347823262215\n",
            "epoch =  4700 current loss =  0.019233234226703644\n",
            "epoch =  4800 current loss =  0.017501479014754295\n",
            "epoch =  4900 current loss =  0.01603534258902073\n",
            "epoch =  5000 current loss =  0.01501302421092987\n",
            "epoch =  5100 current loss =  0.025384685024619102\n",
            "epoch =  5200 current loss =  0.022328946739435196\n",
            "epoch =  5300 current loss =  0.019900985062122345\n",
            "epoch =  5400 current loss =  0.017923811450600624\n",
            "epoch =  5500 current loss =  0.016282489523291588\n",
            "epoch =  5600 current loss =  0.014898514375090599\n",
            "epoch =  5700 current loss =  0.01371640432626009\n",
            "epoch =  5800 current loss =  0.012695586308836937\n",
            "epoch =  5900 current loss =  0.011805729009211063\n",
            "epoch =  6000 current loss =  0.011023581959307194\n"
          ]
        }
      ]
    },
    {
      "cell_type": "code",
      "source": [
        "deeplearning_model.eval() #신경망을 추론모드로 전환\n",
        "\n",
        "test_data = torch.Tensor([0.5,3.0,3.5,11.0,13.0,31.0]).view(6,1)\n",
        "\n",
        "pred = deeplearning_model(test_data) #6개의 testdata에 대해 예측을 실행\n",
        "\n",
        "logical_value = (pred>0.5).float() #예측값이 0.5를 초과하면 true값을 실수 1.0으로 type casting/0.5이하라면 0.0으로 type casting\n",
        "\n",
        "print(pred)\n",
        "print(logical_value)"
      ],
      "metadata": {
        "colab": {
          "base_uri": "https://localhost:8080/"
        },
        "id": "COZBOik92d33",
        "outputId": "ba48177d-b2b3-4ea4-c899-9becc46aeda1"
      },
      "execution_count": 7,
      "outputs": [
        {
          "output_type": "stream",
          "name": "stdout",
          "text": [
            "tensor([[2.5877e-16],\n",
            "        [3.4473e-13],\n",
            "        [1.4534e-12],\n",
            "        [3.4244e-03],\n",
            "        [5.2055e-01],\n",
            "        [1.0000e+00]], grad_fn=<SigmoidBackward0>)\n",
            "tensor([[0.],\n",
            "        [0.],\n",
            "        [0.],\n",
            "        [0.],\n",
            "        [1.],\n",
            "        [1.]])\n"
          ]
        }
      ]
    },
    {
      "cell_type": "markdown",
      "source": [
        "입력데이터가 12이하인 값에 대해선 0을 도출\n",
        "\n",
        "13과 31의 예측값\n",
        "\n",
        "13에 대해서는 약 52%확률로 1을 예측하고 있음"
      ],
      "metadata": {
        "id": "RBQiUYdf3UuU"
      }
    }
  ]
}