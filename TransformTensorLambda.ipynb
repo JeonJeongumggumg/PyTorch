{
  "nbformat": 4,
  "nbformat_minor": 0,
  "metadata": {
    "colab": {
      "provenance": [],
      "mount_file_id": "1h3OEqRDni_IAim5P24CU3ZVL8ruqxmR5",
      "authorship_tag": "ABX9TyMopqfAm8bLnUN9Bl3e5G73",
      "include_colab_link": true
    },
    "kernelspec": {
      "name": "python3",
      "display_name": "Python 3"
    },
    "language_info": {
      "name": "python"
    }
  },
  "cells": [
    {
      "cell_type": "markdown",
      "metadata": {
        "id": "view-in-github",
        "colab_type": "text"
      },
      "source": [
        "<a href=\"https://colab.research.google.com/github/JeonJeongumggumg/PyTorch/blob/main/TransformTensorLambda.ipynb\" target=\"_parent\"><img src=\"https://colab.research.google.com/assets/colab-badge.svg\" alt=\"Open In Colab\"/></a>"
      ]
    },
    {
      "cell_type": "markdown",
      "source": [
        "# Transform\n",
        "\n",
        "데이터가 항상 학습에 필요한 처리가 된 상태로 제공되진 않음\n",
        "\n",
        "Transform을 통해 데이터를 조작하고 학습에 적합하도록 만들어야 할 수도 있"
      ],
      "metadata": {
        "id": "Ay_WZS0HUZzn"
      }
    },
    {
      "cell_type": "code",
      "source": [
        "import torch\n",
        "from torchvision import datasets\n",
        "from torchvision.transforms import ToTensor, Lambda\n",
        "\n",
        "ds = datasets.FashionMNIST(\n",
        "    root=\"data\",\n",
        "    train=True,\n",
        "    download=True,\n",
        "    transform=ToTensor(),\n",
        "    target_transform=Lambda(lambda y: torch.zeros(10, dtype=torch.float).scatter_(0, torch.tensor(y), value=1))\n",
        ")"
      ],
      "metadata": {
        "id": "EpE8xdZGZYV2"
      },
      "execution_count": 8,
      "outputs": []
    },
    {
      "cell_type": "markdown",
      "source": [
        "ToTenseor()\n",
        "\n",
        "PIL image나 NumPy ndarray를 floatTensor로 변환하고 이미지의 픽셀의 크기값을 [0.,1.]범위로 비례해 조정"
      ],
      "metadata": {
        "id": "N0L1ByrZZ6uJ"
      }
    },
    {
      "cell_type": "markdown",
      "source": [
        "Lambda Transform\n",
        "\n",
        "Lambda Transform은 사용자 정의 lambda함수를 적용\n",
        "\n",
        "위에선 정수를 원-핫으로 부호화된 텐서로 바꾸는 함수를 정의"
      ],
      "metadata": {
        "id": "KqBYnAv7aZMy"
      }
    }
  ]
}