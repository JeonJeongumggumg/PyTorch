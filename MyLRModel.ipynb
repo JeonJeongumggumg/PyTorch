{
  "nbformat": 4,
  "nbformat_minor": 0,
  "metadata": {
    "colab": {
      "provenance": [],
      "mount_file_id": "1h3OEqRDni_IAim5P24CU3ZVL8ruqxmR5",
      "authorship_tag": "ABX9TyPG8M3q6e6FcpEA15uovZNr",
      "include_colab_link": true
    },
    "kernelspec": {
      "name": "python3",
      "display_name": "Python 3"
    },
    "language_info": {
      "name": "python"
    }
  },
  "cells": [
    {
      "cell_type": "markdown",
      "metadata": {
        "id": "view-in-github",
        "colab_type": "text"
      },
      "source": [
        "<a href=\"https://colab.research.google.com/github/JeonJeongumggumg/PyTorch/blob/main/MyLRModel.ipynb\" target=\"_parent\"><img src=\"https://colab.research.google.com/assets/colab-badge.svg\" alt=\"Open In Colab\"/></a>"
      ]
    },
    {
      "cell_type": "markdown",
      "source": [
        "# Diabetes Prediction"
      ],
      "metadata": {
        "id": "gSKglE-AONCc"
      }
    },
    {
      "cell_type": "code",
      "source": [
        "import numpy as np\n",
        "\n",
        "loaded_data = np.loadtxt('/content/drive/MyDrive/DeepLearningbook/diabetes.csv', delimiter=',')\n",
        "\n",
        "x_train_np = loaded_data[:,0:-1]\n",
        "y_train_np = loaded_data[:,[-1]]\n",
        "\n",
        "print('loaded_data.shape= ', loaded_data.shape)\n",
        "print('x_train_np.shape= ', x_train_np.shape)\n",
        "print('y_train_np.shape= ', y_train_np.shape)\n"
      ],
      "metadata": {
        "colab": {
          "base_uri": "https://localhost:8080/"
        },
        "id": "QIA98s4BncHD",
        "outputId": "7cfbd151-0510-4ab6-d42a-dbe32676a007"
      },
      "execution_count": 22,
      "outputs": [
        {
          "output_type": "stream",
          "name": "stdout",
          "text": [
            "loaded_data.shape=  (759, 9)\n",
            "x_train_np.shape=  (759, 8)\n",
            "y_train_np.shape=  (759, 1)\n"
          ]
        }
      ]
    },
    {
      "cell_type": "code",
      "source": [
        "import torch\n",
        "from torch import nn\n",
        "\n",
        "x_train = torch.Tensor(x_train_np)\n",
        "y_train = torch.Tensor(y_train_np)\n",
        "\n",
        "class MyLRModel(nn.Module):\n",
        "\n",
        "    def __init__(self):\n",
        "      super().__init__()\n",
        "      self.logistic_stack = nn.Sequential(\n",
        "          nn.Linear(8, 1),\n",
        "          nn.Sigmoid()\n",
        "      )\n",
        "\n",
        "    def forward(self, data):\n",
        "        prediction = self.logistic_stack(data)\n",
        "\n",
        "        return prediction\n",
        ""
      ],
      "metadata": {
        "id": "fbfJsCiLoJhO"
      },
      "execution_count": 23,
      "outputs": []
    },
    {
      "cell_type": "code",
      "source": [
        "model = MyLRModel()\n",
        "\n",
        "for param in model.parameters():\n",
        "  print(param)\n"
      ],
      "metadata": {
        "colab": {
          "base_uri": "https://localhost:8080/"
        },
        "id": "szhQj7xoo4_H",
        "outputId": "213af1a1-6cf1-4ac7-ba53-93581a13d79f"
      },
      "execution_count": 24,
      "outputs": [
        {
          "output_type": "stream",
          "name": "stdout",
          "text": [
            "Parameter containing:\n",
            "tensor([[ 0.1667,  0.1273, -0.2941,  0.3046, -0.0734,  0.0985, -0.1992,  0.0950]],\n",
            "       requires_grad=True)\n",
            "Parameter containing:\n",
            "tensor([-0.1604], requires_grad=True)\n"
          ]
        }
      ]
    },
    {
      "cell_type": "code",
      "source": [
        "loss_function = nn.BCELoss()#로지스틱 회귀 문제임으로 손실함수는 binary Cross Entropy nn.BERLoss()\n",
        "optimizer = torch.optim.SGD(model.parameters(), lr=1e-1)#SGD:확률적경사하강법\n"
      ],
      "metadata": {
        "id": "3UBMwweOpJn7"
      },
      "execution_count": 25,
      "outputs": []
    },
    {
      "cell_type": "code",
      "source": [
        "train_loss_list=[]\n",
        "train_accuracy_list=[]\n",
        "\n",
        "nums_epoch = 5000\n",
        "\n",
        "for epoch in range(nums_epoch+1):\n",
        "    outputs = model(x_train)\n",
        "    loss = loss_function(outputs, y_train) #로지스틱 회귀모델의 예측값과 정답과의 오차를 계산\n",
        "    train_loss_list.append(loss.item())\n",
        "\n",
        "    predicted = outputs>0.5\n",
        "    correct = (predicted.float() == y_train) #정확도를 구하는 부분, sigmoid특성상 모델 예측값 0.5이상 True이므로 True일때는 1.0으로 타입캐스팅해서 정답 y_train과 비교\n",
        "    accuracy = correct.sum().item() / len(correct)\n",
        "\n",
        "    train_accuracy_list.append(accuracy)\n",
        "\n",
        "\n",
        "    optimizer.zero_grad()\n",
        "    loss.backward()\n",
        "    optimizer.step()\n",
        "\n",
        "    if epoch % 100 == 0:\n",
        "        print('epoch = ',epoch, 'current loss = ', loss.item(), 'accuracy = ', accuracy)"
      ],
      "metadata": {
        "colab": {
          "base_uri": "https://localhost:8080/"
        },
        "id": "iWRuYH7KpjIn",
        "outputId": "cd2d7ce2-5b13-4a08-905c-44cbe3bb5ff9"
      },
      "execution_count": 26,
      "outputs": [
        {
          "output_type": "stream",
          "name": "stdout",
          "text": [
            "epoch =  0 current loss =  0.7562533020973206 accuracy =  0.3451910408432148\n",
            "epoch =  100 current loss =  0.5811524987220764 accuracy =  0.6627140974967062\n",
            "epoch =  200 current loss =  0.5452390313148499 accuracy =  0.7206851119894598\n",
            "epoch =  300 current loss =  0.5239739418029785 accuracy =  0.7628458498023716\n",
            "epoch =  400 current loss =  0.5104180574417114 accuracy =  0.7602108036890646\n",
            "epoch =  500 current loss =  0.5012705326080322 accuracy =  0.764163372859025\n",
            "epoch =  600 current loss =  0.49482810497283936 accuracy =  0.7628458498023716\n",
            "epoch =  700 current loss =  0.4901406764984131 accuracy =  0.7654808959156785\n",
            "epoch =  800 current loss =  0.48664185404777527 accuracy =  0.764163372859025\n",
            "epoch =  900 current loss =  0.48397549986839294 accuracy =  0.7628458498023716\n",
            "epoch =  1000 current loss =  0.48190799355506897 accuracy =  0.764163372859025\n",
            "epoch =  1100 current loss =  0.4802808165550232 accuracy =  0.766798418972332\n",
            "epoch =  1200 current loss =  0.4789831042289734 accuracy =  0.7707509881422925\n",
            "epoch =  1300 current loss =  0.47793591022491455 accuracy =  0.7707509881422925\n",
            "epoch =  1400 current loss =  0.47708168625831604 accuracy =  0.769433465085639\n",
            "epoch =  1500 current loss =  0.4763779044151306 accuracy =  0.769433465085639\n",
            "epoch =  1600 current loss =  0.47579264640808105 accuracy =  0.769433465085639\n",
            "epoch =  1700 current loss =  0.4753018021583557 accuracy =  0.769433465085639\n",
            "epoch =  1800 current loss =  0.4748867154121399 accuracy =  0.769433465085639\n",
            "epoch =  1900 current loss =  0.4745331406593323 accuracy =  0.769433465085639\n",
            "epoch =  2000 current loss =  0.4742296636104584 accuracy =  0.7681159420289855\n",
            "epoch =  2100 current loss =  0.4739674925804138 accuracy =  0.7681159420289855\n",
            "epoch =  2200 current loss =  0.4737396538257599 accuracy =  0.7681159420289855\n",
            "epoch =  2300 current loss =  0.47354036569595337 accuracy =  0.7681159420289855\n",
            "epoch =  2400 current loss =  0.47336527705192566 accuracy =  0.7707509881422925\n",
            "epoch =  2500 current loss =  0.4732106328010559 accuracy =  0.7720685111989459\n",
            "epoch =  2600 current loss =  0.4730733335018158 accuracy =  0.7707509881422925\n",
            "epoch =  2700 current loss =  0.4729509651660919 accuracy =  0.7707509881422925\n",
            "epoch =  2800 current loss =  0.47284144163131714 accuracy =  0.7707509881422925\n",
            "epoch =  2900 current loss =  0.47274309396743774 accuracy =  0.7707509881422925\n",
            "epoch =  3000 current loss =  0.4726545214653015 accuracy =  0.7707509881422925\n",
            "epoch =  3100 current loss =  0.47257450222969055 accuracy =  0.7707509881422925\n",
            "epoch =  3200 current loss =  0.4725019633769989 accuracy =  0.7707509881422925\n",
            "epoch =  3300 current loss =  0.4724360704421997 accuracy =  0.7707509881422925\n",
            "epoch =  3400 current loss =  0.4723761975765228 accuracy =  0.7707509881422925\n",
            "epoch =  3500 current loss =  0.4723215699195862 accuracy =  0.7707509881422925\n",
            "epoch =  3600 current loss =  0.472271591424942 accuracy =  0.7707509881422925\n",
            "epoch =  3700 current loss =  0.4722258746623993 accuracy =  0.7707509881422925\n",
            "epoch =  3800 current loss =  0.4721839427947998 accuracy =  0.7707509881422925\n",
            "epoch =  3900 current loss =  0.4721454381942749 accuracy =  0.7707509881422925\n",
            "epoch =  4000 current loss =  0.47211018204689026 accuracy =  0.7707509881422925\n",
            "epoch =  4100 current loss =  0.4720776677131653 accuracy =  0.7707509881422925\n",
            "epoch =  4200 current loss =  0.47204771637916565 accuracy =  0.7707509881422925\n",
            "epoch =  4300 current loss =  0.47202008962631226 accuracy =  0.7707509881422925\n",
            "epoch =  4400 current loss =  0.47199463844299316 accuracy =  0.7707509881422925\n",
            "epoch =  4500 current loss =  0.4719711244106293 accuracy =  0.7681159420289855\n",
            "epoch =  4600 current loss =  0.47194939851760864 accuracy =  0.7681159420289855\n",
            "epoch =  4700 current loss =  0.4719293415546417 accuracy =  0.7681159420289855\n",
            "epoch =  4800 current loss =  0.47191083431243896 accuracy =  0.7681159420289855\n",
            "epoch =  4900 current loss =  0.4718935787677765 accuracy =  0.7681159420289855\n",
            "epoch =  5000 current loss =  0.47187772393226624 accuracy =  0.7681159420289855\n"
          ]
        }
      ]
    },
    {
      "cell_type": "code",
      "source": [
        "import matplotlib.pyplot as plt\n",
        "plt.title('Loss Trend')\n",
        "plt.xlabel('Epochs')\n",
        "plt.ylabel('Loss')\n",
        "plt.grid()\n",
        "\n",
        "plt.plot(train_loss_list, label = 'train loss')\n",
        "plt.legend(loc = 'best')\n",
        "plt.show()"
      ],
      "metadata": {
        "colab": {
          "base_uri": "https://localhost:8080/",
          "height": 472
        },
        "id": "ag3GxALvrdhG",
        "outputId": "4ba34dec-40be-4956-dc96-608fabd0eea3"
      },
      "execution_count": 27,
      "outputs": [
        {
          "output_type": "display_data",
          "data": {
            "text/plain": [
              "<Figure size 640x480 with 1 Axes>"
            ],
            "image/png": "[encoded data removed]"
          },
          "metadata": {}
        }
      ]
    },
    {
      "cell_type": "code",
      "source": [
        "import matplotlib.pyplot as plt\n",
        "plt.title('Accuracy Trend')\n",
        "plt.xlabel('Epochs')\n",
        "plt.ylabel('Accuracy')\n",
        "plt.grid()\n",
        "\n",
        "plt.plot(train_accuracy_list, label = 'train accuracy')\n",
        "plt.legend(loc = 'best')\n",
        "plt.show()"
      ],
      "metadata": {
        "colab": {
          "base_uri": "https://localhost:8080/",
          "height": 472
        },
        "id": "Qek2819yrxD_",
        "outputId": "d8096fbd-8657-4f29-ce85-9b24c587477b"
      },
      "execution_count": 28,
      "outputs": [
        {
          "output_type": "display_data",
          "data": {
            "text/plain": [
              "<Figure size 640x480 with 1 Axes>"
            ],
            "image/png": "[encoded data removed]"
          },
          "metadata": {}
        }
      ]
    },
    {
      "cell_type": "markdown",
      "source": [
        "고려해야할 사항\n",
        "\n",
        "1)현재는 오직 train data에 대한 손실과 정확도\n",
        "\n",
        "학습중에 머신러닝과 딥러닝 시스템이 train data에만 최적화 되는 오버피팅을 확인할 수 있는 validation data와 학습을 마친 후에 train data가 아닌 임의의 데이터로 시스템 성능을 검증할 수 있는 test data가 반드시 필요\n",
        "\n",
        "2)배치 사이즈 설정\n",
        "\n",
        "지금은 전체 데이터를 모두 시스템에 입력하고 계산했지만, 이러면 속도, 정확도같은 시스템 성능이 떨어지기에 한번에 들어가는 데이터 크기인 배치 사이즈 설정이 반드시 필요."
      ],
      "metadata": {
        "id": "NfEgd_4rsP1L"
      }
    },
    {
      "cell_type": "code",
      "source": [],
      "metadata": {
        "id": "w0TXN7o2r_Bc"
      },
      "execution_count": null,
      "outputs": []
    }
  ]
}