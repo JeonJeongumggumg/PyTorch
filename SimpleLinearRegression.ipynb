{
  "nbformat": 4,
  "nbformat_minor": 0,
  "metadata": {
    "colab": {
      "provenance": [],
      "mount_file_id": "1h3OEqRDni_IAim5P24CU3ZVL8ruqxmR5",
      "authorship_tag": "ABX9TyNdNxPHPKEM3YzRJkMgDSpT",
      "include_colab_link": true
    },
    "kernelspec": {
      "name": "python3",
      "display_name": "Python 3"
    },
    "language_info": {
      "name": "python"
    }
  },
  "cells": [
    {
      "cell_type": "markdown",
      "metadata": {
        "id": "view-in-github",
        "colab_type": "text"
      },
      "source": [
        "<a href=\"https://colab.research.google.com/github/JeonJeongumggumg/PyTorch/blob/main/SimpleLinearRegression.ipynb\" target=\"_parent\"><img src=\"https://colab.research.google.com/assets/colab-badge.svg\" alt=\"Open In Colab\"/></a>"
      ]
    },
    {
      "cell_type": "markdown",
      "source": [
        "# Simple LinearRegression Example\n"
      ],
      "metadata": {
        "id": "WikLJgAl1C5_"
      }
    },
    {
      "cell_type": "code",
      "source": [
        "import torch\n",
        "from torch import nn\n",
        "\n",
        "x_train = torch.Tensor([1,2,3,4,5,6]).view(6,1)\n",
        "y_train = torch.Tensor([3,4,5,6,7,8]).view(6,1)"
      ],
      "metadata": {
        "id": "GIZnUimq1Cdr"
      },
      "execution_count": 1,
      "outputs": []
    },
    {
      "cell_type": "code",
      "source": [
        "class MyNetwork(nn.Module):\n",
        "  def __init__(self):\n",
        "      super().__init__()\n",
        "      self.linear_relu_stack = nn.Sequential(\n",
        "          nn.Linear(1,1) #입력 데이터 1, 출력 데이터 1\n",
        "      )\n",
        "\n",
        "  def forward(self, x):\n",
        "      logits = self.linear_relu_stack(x)\n",
        "      return logits"
      ],
      "metadata": {
        "id": "LzyjeD832F9w"
      },
      "execution_count": 3,
      "outputs": []
    },
    {
      "cell_type": "code",
      "source": [
        "model = MyNetwork()\n",
        "\n",
        "loss_function = nn.MSELoss()\n",
        "\n",
        "optimizer = torch.optim.SGD(model.parameters(), lr=1e-2)"
      ],
      "metadata": {
        "id": "1z398mOs24Nc"
      },
      "execution_count": 8,
      "outputs": []
    },
    {
      "cell_type": "code",
      "source": [
        "nums_epoch = 2000\n",
        "\n",
        "for epoch in range(nums_epoch+1):\n",
        "\n",
        "    prefiction = model(x_train)\n",
        "    loss = loss_function(prefiction, y_train)\n",
        "\n",
        "    optimizer.zero_grad()\n",
        "    loss.backward()\n",
        "    optimizer.step()\n",
        "\n",
        "    if epoch % 100 == 0:\n",
        "        print('epoch = ', epoch, 'current loss = ', loss.item())"
      ],
      "metadata": {
        "colab": {
          "base_uri": "https://localhost:8080/"
        },
        "id": "Ff7Cfyax3Q9I",
        "outputId": "90b4b4d0-ec72-48b7-a0cd-29bd6b2847cd"
      },
      "execution_count": 9,
      "outputs": [
        {
          "output_type": "stream",
          "name": "stdout",
          "text": [
            "epoch =  0 current loss =  63.770626068115234\n",
            "epoch =  100 current loss =  0.18564264476299286\n",
            "epoch =  200 current loss =  0.08935347944498062\n",
            "epoch =  300 current loss =  0.04300765320658684\n",
            "epoch =  400 current loss =  0.020700424909591675\n",
            "epoch =  500 current loss =  0.00996352732181549\n",
            "epoch =  600 current loss =  0.004795657936483622\n",
            "epoch =  700 current loss =  0.0023082417901605368\n",
            "epoch =  800 current loss =  0.0011110060149803758\n",
            "epoch =  900 current loss =  0.000534743769094348\n",
            "epoch =  1000 current loss =  0.00025738775730133057\n",
            "epoch =  1100 current loss =  0.00012388416507747024\n",
            "epoch =  1200 current loss =  5.962625073152594e-05\n",
            "epoch =  1300 current loss =  2.8698870664811693e-05\n",
            "epoch =  1400 current loss =  1.3815272723149974e-05\n",
            "epoch =  1500 current loss =  6.649339866271475e-06\n",
            "epoch =  1600 current loss =  3.201436584276962e-06\n",
            "epoch =  1700 current loss =  1.5409983689096407e-06\n",
            "epoch =  1800 current loss =  7.419686767207168e-07\n",
            "epoch =  1900 current loss =  3.573093465547572e-07\n",
            "epoch =  2000 current loss =  1.7210238922871213e-07\n"
          ]
        }
      ]
    },
    {
      "cell_type": "code",
      "source": [
        "x_test = torch.Tensor([-3.1, 3.0, 1.2, -2.5]).view(4,1)\n",
        "\n",
        "pred = model(x_test)\n",
        "print(pred.detach().numpy())"
      ],
      "metadata": {
        "colab": {
          "base_uri": "https://localhost:8080/"
        },
        "id": "67GsQtdI30Vm",
        "outputId": "22711fa3-2b3b-4e54-ce8a-af88742eb411"
      },
      "execution_count": 10,
      "outputs": [
        {
          "output_type": "stream",
          "name": "stdout",
          "text": [
            "[[-1.1016239]\n",
            " [ 4.9997177]\n",
            " [ 3.1993217]\n",
            " [-0.5014919]]\n"
          ]
        }
      ]
    }
  ]
}