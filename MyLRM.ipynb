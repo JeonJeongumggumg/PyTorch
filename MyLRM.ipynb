{
  "nbformat": 4,
  "nbformat_minor": 0,
  "metadata": {
    "colab": {
      "provenance": [],
      "mount_file_id": "1h3OEqRDni_IAim5P24CU3ZVL8ruqxmR5",
      "authorship_tag": "ABX9TyNcnWHiqrj0+KNc92DCQVcc",
      "include_colab_link": true
    },
    "kernelspec": {
      "name": "python3",
      "display_name": "Python 3"
    },
    "language_info": {
      "name": "python"
    }
  },
  "cells": [
    {
      "cell_type": "markdown",
      "metadata": {
        "id": "view-in-github",
        "colab_type": "text"
      },
      "source": [
        "<a href=\"https://colab.research.google.com/github/JeonJeongumggumg/PyTorch/blob/main/MyLRM.ipynb\" target=\"_parent\"><img src=\"https://colab.research.google.com/assets/colab-badge.svg\" alt=\"Open In Colab\"/></a>"
      ]
    },
    {
      "cell_type": "markdown",
      "source": [
        "# Linear Regression example"
      ],
      "metadata": {
        "id": "gSKglE-AONCc"
      }
    },
    {
      "cell_type": "code",
      "source": [
        "#학습데이터 정의\n",
        "import numpy as np\n",
        "loaded_data = np.loadtxt('/content/drive/MyDrive/DeepLearningbook/LEC06_TrainData.csv', delimiter=',')\n",
        "\n",
        "x_train_np = loaded_data[:, 0:-1]\n",
        "y_train_np = loaded_data[:, [-1]]\n",
        "\n",
        "print(loaded_data[:3])\n",
        "print('~~~~~~~~~~~~~~~~~~~')\n",
        "print(x_train_np[:3])\n",
        "print('~~~~~~~~~~~~~~~~~~~')\n",
        "print(y_train_np[:3])"
      ],
      "metadata": {
        "colab": {
          "base_uri": "https://localhost:8080/"
        },
        "id": "VGcue8IwOMxc",
        "outputId": "724c37d3-2fe6-4903-b4bb-21575bcabdac"
      },
      "execution_count": 3,
      "outputs": [
        {
          "output_type": "stream",
          "name": "stdout",
          "text": [
            "[[ 1.  2.  0. -4.]\n",
            " [ 5.  4.  3.  4.]\n",
            " [ 1.  2. -1. -6.]]\n",
            "~~~~~~~~~~~~~~~~~~~\n",
            "[[ 1.  2.  0.]\n",
            " [ 5.  4.  3.]\n",
            " [ 1.  2. -1.]]\n",
            "~~~~~~~~~~~~~~~~~~~\n",
            "[[-4.]\n",
            " [ 4.]\n",
            " [-6.]]\n"
          ]
        }
      ]
    },
    {
      "cell_type": "code",
      "source": [
        "import torch\n",
        "from torch import nn\n",
        "\n",
        "x_train = torch.Tensor(x_train_np) #넘파이로부터 파이토치 텐서를 생성\n",
        "y_train = torch.Tensor(y_train_np)\n",
        "\n",
        "class MyLRM(nn.Module): #파이토치 선형회귀 모델 구축\n",
        "    def __init__(self, input_nodes):\n",
        "        super().__init__()\n",
        "        self.linear_stack = nn.Sequential(\n",
        "            nn.Linear(input_nodes, 1) #계층입력데이터(노드)개수,출력데이터(노드)개수\n",
        "        )\n",
        "    def forward(self, data):\n",
        "        prediction = self.linear_stack(data)\n",
        "\n",
        "        return  prediction\n",
        ""
      ],
      "metadata": {
        "id": "8gwE5xXWPIbn"
      },
      "execution_count": 5,
      "outputs": []
    },
    {
      "cell_type": "code",
      "source": [
        "model = MyLRM(3)#입력데이터가 3개인 선형회귀 모델 인스턴스 생성\n",
        "\n",
        "for name,child in model.named_children(): #모델파라미터(가중치, 바이어스)값을 확인\n",
        "    for param in child.parameters():\n",
        "        print(name, param)"
      ],
      "metadata": {
        "colab": {
          "base_uri": "https://localhost:8080/"
        },
        "id": "L_PKSwVHRJQC",
        "outputId": "8406f9c4-6649-4b3f-df2a-69b7a03dd56b"
      },
      "execution_count": 16,
      "outputs": [
        {
          "output_type": "stream",
          "name": "stdout",
          "text": [
            "linear_stack Parameter containing:\n",
            "tensor([[-0.5758,  0.0803,  0.1175]], requires_grad=True)\n",
            "linear_stack Parameter containing:\n",
            "tensor([-0.1372], requires_grad=True)\n"
          ]
        }
      ]
    },
    {
      "cell_type": "code",
      "source": [
        "loss_function = nn.MSELoss() #선형회귀 문제이므로 손실함수는 평균제곱의 오차인 nn.MSELoss()\n",
        "optimizer = torch.optim.SGD(model.parameters(),lr=1e-2) #옵티마이저는 확률적 경사하강법"
      ],
      "metadata": {
        "id": "gI8BQThHSOLS"
      },
      "execution_count": 17,
      "outputs": []
    },
    {
      "cell_type": "code",
      "source": [
        "loss_list = []\n",
        "nums_epoch = 2000\n",
        "\n",
        "for epoch in range(nums_epoch+1):\n",
        "\n",
        "    prediction = model(x_train) #모델에 데이터를 전달하면 클래스의 forwaed함수가 자동으로 전달(따로하면 안된다)\n",
        "    loss = loss_function(prediction, y_train) #선형회귀 모델의 예측값과 정답과의 오차를 계산\n",
        "\n",
        "    loss_list.append(loss.item())\n",
        "\n",
        "    optimizer.zero_grad() #역전파코드, 학습이 진행됨에 따라 모델파라미터를 업데이트하면서 최적화\n",
        "    loss.backward()\n",
        "    optimizer.step()\n",
        "\n",
        "    if epoch % 100 == 0:\n",
        "        print('epoch = ', epoch, 'current loss = ', loss.item())"
      ],
      "metadata": {
        "colab": {
          "base_uri": "https://localhost:8080/"
        },
        "id": "Gd7dWRAeS7gV",
        "outputId": "9af1aed4-dfd0-4109-9711-3e4c2ff3df8e"
      },
      "execution_count": 18,
      "outputs": [
        {
          "output_type": "stream",
          "name": "stdout",
          "text": [
            "epoch =  0 current loss =  30.758716583251953\n",
            "epoch =  100 current loss =  0.1782674491405487\n",
            "epoch =  200 current loss =  0.0014248259831219912\n",
            "epoch =  300 current loss =  2.025670801231172e-05\n",
            "epoch =  400 current loss =  3.229483809263911e-06\n",
            "epoch =  500 current loss =  1.062518208527763e-06\n",
            "epoch =  600 current loss =  3.5949571497440047e-07\n",
            "epoch =  700 current loss =  1.2169040530807251e-07\n",
            "epoch =  800 current loss =  4.1346293500055253e-08\n",
            "epoch =  900 current loss =  1.4029162720419208e-08\n",
            "epoch =  1000 current loss =  4.7239590017511546e-09\n",
            "epoch =  1100 current loss =  1.6519218215549358e-09\n",
            "epoch =  1200 current loss =  6.128054175214004e-10\n",
            "epoch =  1300 current loss =  2.4358023931192463e-10\n",
            "epoch =  1400 current loss =  1.14789275307281e-10\n",
            "epoch =  1500 current loss =  5.630816646284842e-11\n",
            "epoch =  1600 current loss =  3.8342887892506283e-11\n",
            "epoch =  1700 current loss =  3.0042156262677366e-11\n",
            "epoch =  1800 current loss =  2.1173856071254882e-11\n",
            "epoch =  1900 current loss =  2.07988157946426e-11\n",
            "epoch =  2000 current loss =  2.0842633174922298e-11\n"
          ]
        }
      ]
    },
    {
      "cell_type": "markdown",
      "source": [
        "모델링 확인하기"
      ],
      "metadata": {
        "id": "R6fLp8vEUDdO"
      }
    },
    {
      "cell_type": "code",
      "source": [
        "import matplotlib.pyplot as plt\n",
        "plt.title('Loss Trend')\n",
        "plt.xlabel('Epoch')\n",
        "plt.ylabel('Loss')\n",
        "plt.grid()\n",
        "\n",
        "plt.plot(loss_list, label = 'train loss')\n",
        "plt.legend(loc = 'best')\n",
        "plt.show()"
      ],
      "metadata": {
        "colab": {
          "base_uri": "https://localhost:8080/",
          "height": 472
        },
        "id": "BVlxNlupUIPx",
        "outputId": "cb42510d-f1c1-421e-fcd0-a60041b3a6bc"
      },
      "execution_count": 19,
      "outputs": [
        {
          "output_type": "display_data",
          "data": {
            "text/plain": [
              "<Figure size 640x480 with 1 Axes>"
            ],
            "image/png": "[encoded data removed]"
          },
          "metadata": {}
        }
      ]
    },
    {
      "cell_type": "code",
      "source": [
        "for name, child in model.named_children():\n",
        "    for param in child.parameters():\n",
        "        print(name, param)"
      ],
      "metadata": {
        "colab": {
          "base_uri": "https://localhost:8080/"
        },
        "id": "DhJ7hkXOUsP6",
        "outputId": "e7a46af1-5003-46f1-a1fe-cc389e2ce106"
      },
      "execution_count": 20,
      "outputs": [
        {
          "output_type": "stream",
          "name": "stdout",
          "text": [
            "linear_stack Parameter containing:\n",
            "tensor([[ 2.0000, -3.0000,  2.0000]], requires_grad=True)\n",
            "linear_stack Parameter containing:\n",
            "tensor([-7.1781e-06], requires_grad=True)\n"
          ]
        }
      ]
    },
    {
      "cell_type": "markdown",
      "source": [
        "가중치 w1,w2,w3가 랜덤한 값에서 원한 값으로 변화\n",
        "\n",
        "바이어스도 랜덤한 값에서 특정값으로 수렴\n",
        "\n",
        "--> 최적화 완료"
      ],
      "metadata": {
        "id": "LNuJQg7EU3pO"
      }
    },
    {
      "cell_type": "code",
      "source": [
        "#임의의 데이터 입력\n",
        "\n",
        "x_test = torch.Tensor([[5,5,0],[2,3,1],[-1,0,-1],[10,5,2],[4,-1,-2]])\n",
        "\n",
        "label = [2*data[0] -3*data[2] +2*data[2] for data in x_test]\n",
        "\n",
        "pred = model(x_test) #학습 완료된 모델에 테스트 데이터를 대입\n",
        "\n",
        "print(pred)\n",
        "print('~~~~~~~~~~~~~~~~~~~~~~~~~~')\n",
        "print(label)\n"
      ],
      "metadata": {
        "colab": {
          "base_uri": "https://localhost:8080/"
        },
        "id": "6isOXQDIVBgM",
        "outputId": "b164c9a9-ac9d-49a1-8dc6-9b6734a0a9a9"
      },
      "execution_count": 21,
      "outputs": [
        {
          "output_type": "stream",
          "name": "stdout",
          "text": [
            "tensor([[-5.0000],\n",
            "        [-3.0000],\n",
            "        [-4.0000],\n",
            "        [ 9.0000],\n",
            "        [ 7.0000]], grad_fn=<AddmmBackward0>)\n",
            "~~~~~~~~~~~~~~~~~~~~~~~~~~\n",
            "[tensor(10.), tensor(3.), tensor(-1.), tensor(18.), tensor(10.)]\n"
          ]
        }
      ]
    },
    {
      "cell_type": "markdown",
      "source": [
        "?????????????????????????????????????????"
      ],
      "metadata": {
        "id": "53zxLcRsWTmh"
      }
    }
  ]
}