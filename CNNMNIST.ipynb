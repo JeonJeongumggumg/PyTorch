{
  "nbformat": 4,
  "nbformat_minor": 0,
  "metadata": {
    "colab": {
      "provenance": [],
      "gpuType": "T4",
      "mount_file_id": "1kKSd9tNsNXGBYPgGTZYQcYkWkH-MgAFW",
      "authorship_tag": "ABX9TyMKPPnxq7gsqzZgFcmY+0Cj",
      "include_colab_link": true
    },
    "kernelspec": {
      "name": "python3",
      "display_name": "Python 3"
    },
    "language_info": {
      "name": "python"
    },
    "accelerator": "GPU"
  },
  "cells": [
    {
      "cell_type": "markdown",
      "metadata": {
        "id": "view-in-github",
        "colab_type": "text"
      },
      "source": [
        "<a href=\"https://colab.research.google.com/github/JeonJeongumggumg/PyTorch/blob/main/CNNMNIST.ipynb\" target=\"_parent\"><img src=\"https://colab.research.google.com/assets/colab-badge.svg\" alt=\"Open In Colab\"/></a>"
      ]
    },
    {
      "cell_type": "markdown",
      "source": [
        "# MNIST를 CNN으로 구현"
      ],
      "metadata": {
        "id": "6j8lUA6ZtB_a"
      }
    },
    {
      "cell_type": "code",
      "source": [
        "import torch\n",
        "from torch import nn\n",
        "from torchvision import datasets\n",
        "from torchvision import transforms\n",
        "from torch.utils.data import Dataset, DataLoader, random_split\n",
        "import numpy as np"
      ],
      "metadata": {
        "id": "FkTkWPFOt7Ft"
      },
      "execution_count": 1,
      "outputs": []
    },
    {
      "cell_type": "code",
      "source": [
        "DEVICE = torch.device(\"cuda\") if torch.cuda.is_available() else torch.device(\"cpu\")\n",
        "\n",
        "print(f\"Device: {DEVICE}\")"
      ],
      "metadata": {
        "colab": {
          "base_uri": "https://localhost:8080/"
        },
        "id": "FXqFzP10tCpP",
        "outputId": "5c8e5235-31e1-4516-8600-a0d64b278595"
      },
      "execution_count": 2,
      "outputs": [
        {
          "output_type": "stream",
          "name": "stdout",
          "text": [
            "Device: cuda\n"
          ]
        }
      ]
    },
    {
      "cell_type": "code",
      "source": [
        "train_dataset = datasets.MNIST(root='MNIST_data/',train=True, download=True, transform=transforms.ToTensor())\n",
        "\n",
        "test_dataset = datasets.MNIST(root='MNIST_data/',train=False, download=True,transform=transforms.ToTensor())\n"
      ],
      "metadata": {
        "colab": {
          "base_uri": "https://localhost:8080/"
        },
        "id": "i71uOKJguDqn",
        "outputId": "198b11a4-c58d-4f11-a7f4-9a1c942cb90f"
      },
      "execution_count": 3,
      "outputs": [
        {
          "output_type": "stream",
          "name": "stdout",
          "text": [
            "Downloading http://yann.lecun.com/exdb/mnist/train-images-idx3-ubyte.gz\n",
            "Failed to download (trying next):\n",
            "HTTP Error 404: Not Found\n",
            "\n",
            "Downloading https://ossci-datasets.s3.amazonaws.com/mnist/train-images-idx3-ubyte.gz\n",
            "Downloading https://ossci-datasets.s3.amazonaws.com/mnist/train-images-idx3-ubyte.gz to MNIST_data/MNIST/raw/train-images-idx3-ubyte.gz\n"
          ]
        },
        {
          "output_type": "stream",
          "name": "stderr",
          "text": [
            "100%|██████████| 9.91M/9.91M [00:00<00:00, 44.0MB/s]\n"
          ]
        },
        {
          "output_type": "stream",
          "name": "stdout",
          "text": [
            "Extracting MNIST_data/MNIST/raw/train-images-idx3-ubyte.gz to MNIST_data/MNIST/raw\n",
            "\n",
            "Downloading http://yann.lecun.com/exdb/mnist/train-labels-idx1-ubyte.gz\n",
            "Failed to download (trying next):\n",
            "HTTP Error 404: Not Found\n",
            "\n",
            "Downloading https://ossci-datasets.s3.amazonaws.com/mnist/train-labels-idx1-ubyte.gz\n",
            "Downloading https://ossci-datasets.s3.amazonaws.com/mnist/train-labels-idx1-ubyte.gz to MNIST_data/MNIST/raw/train-labels-idx1-ubyte.gz\n"
          ]
        },
        {
          "output_type": "stream",
          "name": "stderr",
          "text": [
            "100%|██████████| 28.9k/28.9k [00:00<00:00, 1.70MB/s]\n"
          ]
        },
        {
          "output_type": "stream",
          "name": "stdout",
          "text": [
            "Extracting MNIST_data/MNIST/raw/train-labels-idx1-ubyte.gz to MNIST_data/MNIST/raw\n",
            "\n",
            "Downloading http://yann.lecun.com/exdb/mnist/t10k-images-idx3-ubyte.gz\n",
            "Failed to download (trying next):\n",
            "HTTP Error 404: Not Found\n",
            "\n",
            "Downloading https://ossci-datasets.s3.amazonaws.com/mnist/t10k-images-idx3-ubyte.gz\n",
            "Downloading https://ossci-datasets.s3.amazonaws.com/mnist/t10k-images-idx3-ubyte.gz to MNIST_data/MNIST/raw/t10k-images-idx3-ubyte.gz\n"
          ]
        },
        {
          "output_type": "stream",
          "name": "stderr",
          "text": [
            "100%|██████████| 1.65M/1.65M [00:00<00:00, 14.6MB/s]\n"
          ]
        },
        {
          "output_type": "stream",
          "name": "stdout",
          "text": [
            "Extracting MNIST_data/MNIST/raw/t10k-images-idx3-ubyte.gz to MNIST_data/MNIST/raw\n",
            "\n",
            "Downloading http://yann.lecun.com/exdb/mnist/t10k-labels-idx1-ubyte.gz\n",
            "Failed to download (trying next):\n",
            "HTTP Error 404: Not Found\n",
            "\n",
            "Downloading https://ossci-datasets.s3.amazonaws.com/mnist/t10k-labels-idx1-ubyte.gz\n",
            "Downloading https://ossci-datasets.s3.amazonaws.com/mnist/t10k-labels-idx1-ubyte.gz to MNIST_data/MNIST/raw/t10k-labels-idx1-ubyte.gz\n"
          ]
        },
        {
          "output_type": "stream",
          "name": "stderr",
          "text": [
            "100%|██████████| 4.54k/4.54k [00:00<00:00, 7.60MB/s]"
          ]
        },
        {
          "output_type": "stream",
          "name": "stdout",
          "text": [
            "Extracting MNIST_data/MNIST/raw/t10k-labels-idx1-ubyte.gz to MNIST_data/MNIST/raw\n",
            "\n"
          ]
        },
        {
          "output_type": "stream",
          "name": "stderr",
          "text": [
            "\n"
          ]
        }
      ]
    },
    {
      "cell_type": "code",
      "source": [
        "print(len(train_dataset))\n",
        "\n",
        "train_dataset_size = int(len(train_dataset)*0.85) #train, test밖에 없던 것에서 train,validation,test로 분할\n",
        "validation_dataset_size = int(len(train_dataset)*0.15)\n",
        "\n",
        "train_dataset, validation_dataset = random_split(train_dataset, [train_dataset_size, validation_dataset_size])\n",
        "\n",
        "print(len(train_dataset),len(validation_dataset),len(test_dataset))"
      ],
      "metadata": {
        "colab": {
          "base_uri": "https://localhost:8080/"
        },
        "id": "xk8NL6JVunRK",
        "outputId": "29bc8248-230a-4a26-be63-ac144f01827e"
      },
      "execution_count": 4,
      "outputs": [
        {
          "output_type": "stream",
          "name": "stdout",
          "text": [
            "60000\n",
            "51000 9000 10000\n"
          ]
        }
      ]
    },
    {
      "cell_type": "code",
      "source": [
        "BATCH_SIZE = 64\n",
        "\n",
        "train_dataset_loader = DataLoader(dataset=train_dataset, batch_size = BATCH_SIZE, shuffle=True)\n",
        "\n",
        "validation_dataset_loader = DataLoader(dataset=validation_dataset, batch_size = BATCH_SIZE, shuffle=True)\n",
        "\n",
        "test_dataset_loader = DataLoader(dataset=test_dataset, batch_size = BATCH_SIZE, shuffle = True)"
      ],
      "metadata": {
        "id": "dNxyB72YGfan"
      },
      "execution_count": 5,
      "outputs": []
    },
    {
      "cell_type": "markdown",
      "source": [
        "Feature Extractor (Conv-pooling-flat으로 구성)\n",
        "nn.Conv2d(in_channels =1, out_channels=32, kernel_size=3, strides=1, padding=1)\n",
        "in_channel-컨볼루션 레이어로 들어오는 채널의 개수\n",
        "out_channel-컨볼루션 레이어로부터 나가는 채널 개수(=필터개수)\n",
        "kernel_size-컨볼루션 연산을 위한 필터의 이동간격\n",
        "strides-컨볼루션 연산을 위한 필터의 이동간격\n",
        "padding-컨볼루션 연산 전에, 입력채널에 패딩할 크기\n",
        "\n",
        "\n",
        "nn.MaxPool2d(kernel_size =2 ,strides=2)\n",
        "kernel_size – 한번에 풀링 연산을 수행할 크기\n",
        "strides – 풀링연상을 위한 이동간격\n",
        "\n",
        "\n",
        "previous_data.view(-1,벡터크기)\n",
        "Feature Extractor 출력은 (높이,너비,채널)로 나타나는 3차원텐서로, 완전연결층과의 연결을 위해 view()명령어를 이용해 3차원 텐서를 1차원 벡터로 만들어주는 역할을 수행(= view(-1,벡터크기) 이용해서 배치차원은 유지되고 3차원텐서는 1차원벡터로 변환"
      ],
      "metadata": {
        "id": "8IM2bPIgOmBa"
      }
    },
    {
      "cell_type": "code",
      "source": [
        "class CNNMNIST(nn.Module):\n",
        "    def __init__(self):\n",
        "        super().__init__()\n",
        "        self.conv1 = nn.Conv2d(in_channels=1, out_channels=32, kernel_size=3, padding=1)\n",
        "\n",
        "        self.conv2 = nn.Conv2d(in_channels=32, out_channels=64, kernel_size=3, padding=1)\n",
        "\n",
        "        self.pooling = nn.MaxPool2d(kernel_size=2, stride=2)\n",
        "\n",
        "        self.fc1 = nn.Linear(7*7*64, 256)\n",
        "        self.fc2 = nn.Linear(256,10)\n",
        "\n",
        "        self.dropout25 = nn.Dropout(p=0.25)\n",
        "        self.dropout50 = nn.Dropout(p=0.5)\n",
        "\n",
        "    def forward(self,data): #data shape = (28,28,1)\n",
        "        data = self.conv1(data) #(28,28,1)\n",
        "        data = torch.relu(data) #(28,28,32)\n",
        "        data = self.pooling(data) #(28,28,32)\n",
        "        data = self.dropout25(data) ##(14,14,32) 패딩이 적용되어 컨볼루션층을 통과한 데이터는 크기는 변하지 않고 필터개수와 동일하게 출력채널 개수만 변화\n",
        "\n",
        "        data = self.conv2(data) #(14,14,32)\n",
        "        data = torch.relu(data) #(14,14,64)\n",
        "        data = self.pooling(data) #(14,14,64)\n",
        "        data = self.dropout25(data) #(7,7,64) 맥스풀링 층을 통과한 데이터는 크기가 1/2로 변화하지만 채널 개수는 변하지 않음\n",
        "\n",
        "        data = data.view(-1,7*7*64)\n",
        "\n",
        "        data = self.fc1(data)\n",
        "        data = torch.relu(data)\n",
        "        data = self.dropout50(data)\n",
        "\n",
        "        logits = self.fc2(data)\n",
        "\n",
        "        return logits\n",
        "\n",
        ""
      ],
      "metadata": {
        "id": "ykprzHy0vQAQ"
      },
      "execution_count": 6,
      "outputs": []
    },
    {
      "cell_type": "code",
      "source": [
        "model = CNNMNIST().to(DEVICE)\n",
        "\n",
        "loss_function = nn.CrossEntropyLoss() #내부적으로 softmax함수가 포함, 즉 함수는 내부적으로 모델 출력값인 logits에 softmax함수를 먼저 적용시킨 후에 손실함수값을 계산\n",
        "\n",
        "optimizer = torch.optim.Adam(model.parameters(), lr=1e-3)\n"
      ],
      "metadata": {
        "id": "GXYfJIPqy4bg"
      },
      "execution_count": 7,
      "outputs": []
    },
    {
      "cell_type": "code",
      "source": [
        "def model_train(dataloader, model, loss_function, optimizer):\n",
        "\n",
        "    model.train() #신경망을 학습모드로 전환\n",
        "\n",
        "    train_loss_sum = train_correct = train_total = 0\n",
        "\n",
        "    total_train_batch = len(dataloader)\n",
        "\n",
        "    for images, labels in dataloader: #images에는 MNIST이미지, labels에는 0~9 정답 숫자\n",
        "\n",
        "        x_train = images.to(DEVICE) #images.shape=(batch_size, 1, 28, 28)\n",
        "        y_train = labels.to(DEVICE)\n",
        "\n",
        "        outputs = model(x_train) #입력데이터에 대해 예측값 계산\n",
        "        loss = loss_function(outputs, y_train) #모델 예측값과 정답과의 오차인 손실함수 계산\n",
        "\n",
        "        optimizer.zero_grad() #역전파 코드, 학습 진행됨에 따라 모델 파라미터 업데이트하면서 최적화\n",
        "        loss.backward()\n",
        "        optimizer.step()\n",
        "\n",
        "        train_loss_sum += loss.item()\n",
        "\n",
        "        train_total += y_train.size(0)\n",
        "        train_correct += ((torch.argmax(outputs,1)==y_train)).sum().item()\n",
        "\n",
        "    train_avg_loss = train_loss_sum / total_train_batch #학습데이터 평균 오차 계산\n",
        "    train_avg_accuracy = 100*train_correct / train_total #학습데이터 평균 정확도 계산\n",
        "\n",
        "    return (train_avg_loss, train_avg_accuracy)"
      ],
      "metadata": {
        "id": "_7aDBjJHw91M"
      },
      "execution_count": 8,
      "outputs": []
    },
    {
      "cell_type": "code",
      "source": [
        "def model_evaluate(dataloader, model, loss_function, optimizer):\n",
        "\n",
        "    model.eval()\n",
        "\n",
        "    with torch.no_grad():\n",
        "\n",
        "        val_loss_sum = val_correct = val_total = 0\n",
        "\n",
        "        total_val_batch = len(dataloader)\n",
        "\n",
        "        for images, labels in dataloader:\n",
        "\n",
        "            x_val = images.to(DEVICE)\n",
        "            y_val = labels.to(DEVICE)\n",
        "\n",
        "            outputs = model(x_val)\n",
        "            loss = loss_function(outputs, y_val)\n",
        "\n",
        "            val_loss_sum += loss.item()\n",
        "\n",
        "            val_total += y_val.size(0)\n",
        "            val_correct += ((torch.argmax(outputs, 1)==y_val)).sum().item()\n",
        "\n",
        "        val_avg_loss = val_loss_sum / total_val_batch\n",
        "        val_avg_accuracy = 100*val_correct / val_total\n",
        "\n",
        "    return (val_avg_loss, val_avg_accuracy)"
      ],
      "metadata": {
        "id": "neYpoCuF2H9g"
      },
      "execution_count": 9,
      "outputs": []
    },
    {
      "cell_type": "code",
      "source": [
        "def model_test(dataloader, model):\n",
        "\n",
        "    model.eval()\n",
        "\n",
        "    with torch.no_grad():\n",
        "\n",
        "        test_loss_sum = test_correct = test_total = 0\n",
        "\n",
        "        total_test_batch = len(dataloader)\n",
        "\n",
        "        for images, labels in dataloader:\n",
        "\n",
        "            x_test = images.to(DEVICE)\n",
        "            y_test = labels.to(DEVICE)\n",
        "\n",
        "            outputs = model(x_test)\n",
        "            loss = loss_function(outputs, y_test)\n",
        "\n",
        "            test_loss_sum += loss.item()\n",
        "\n",
        "            test_total += y_test.size(0)\n",
        "            test_correct += ((torch.argmax(outputs, 1)==y_test)).sum().item()\n",
        "\n",
        "        test_avg_loss = test_loss_sum / total_test_batch\n",
        "        test_avg_accuracy = 100*test_correct / test_total\n",
        "\n",
        "    print('accuracy: ', test_avg_accuracy)\n",
        "    print('loss: ', test_avg_loss)"
      ],
      "metadata": {
        "id": "3N7S95stALo_"
      },
      "execution_count": 10,
      "outputs": []
    },
    {
      "cell_type": "code",
      "source": [
        "train_loss_list = []\n",
        "train_accuracy_list = []\n",
        "\n",
        "val_loss_list = []\n",
        "val_accuracy_list = []\n",
        "\n",
        "EPOCHS = 20\n",
        "\n",
        "for epoch in range(EPOCHS):\n",
        "\n",
        "    #model train\n",
        "    train_avg_loss, train_avg_accuracy = model_train(train_dataset_loader, model, loss_function, optimizer)\n",
        "\n",
        "    train_loss_list.append(train_avg_loss)\n",
        "    train_accuracy_list.append(train_avg_accuracy)\n",
        "\n",
        "    #model evaluation\n",
        "    val_avg_loss, val_avg_accuracy = model_evaluate(validation_dataset_loader, model, loss_function, optimizer)\n",
        "\n",
        "    val_loss_list.append(val_avg_loss)\n",
        "    val_accuracy_list.append(val_avg_accuracy)\n"
      ],
      "metadata": {
        "id": "AnYNLuQw3d53"
      },
      "execution_count": 11,
      "outputs": []
    },
    {
      "cell_type": "code",
      "source": [
        "model_test(test_dataset_loader, model)"
      ],
      "metadata": {
        "colab": {
          "base_uri": "https://localhost:8080/"
        },
        "id": "TZUILcsb4l_j",
        "outputId": "bb7e6f3c-6ba9-4cfd-946a-d1abc03ac893"
      },
      "execution_count": 12,
      "outputs": [
        {
          "output_type": "stream",
          "name": "stdout",
          "text": [
            "accuracy:  99.3\n",
            "loss:  0.0223908707421751\n"
          ]
        }
      ]
    },
    {
      "cell_type": "code",
      "source": [
        "import matplotlib.pyplot as plt\n",
        "\n",
        "plt.title('Loss Trend')\n",
        "plt.xlabel('epochs')\n",
        "plt.ylabel('loss')\n",
        "plt.grid()\n",
        "\n",
        "plt.plot(train_loss_list, label='train loss')\n",
        "plt.plot(val_loss_list, label='validation loss')\n",
        "\n",
        "plt.legend()\n",
        "\n",
        "plt.show()"
      ],
      "metadata": {
        "colab": {
          "base_uri": "https://localhost:8080/",
          "height": 472
        },
        "id": "F33Q9DybMh8r",
        "outputId": "36ab5248-7f1f-43c9-8cd9-6bf9cef7cee0"
      },
      "execution_count": 13,
      "outputs": [
        {
          "output_type": "display_data",
          "data": {
            "text/plain": [
              "<Figure size 640x480 with 1 Axes>"
            ],
            "image/png": "[encoded data removed]"
          },
          "metadata": {}
        }
      ]
    },
    {
      "cell_type": "code",
      "source": [
        "import matplotlib.pyplot as plt\n",
        "\n",
        "plt.title('Accuracy Trend')\n",
        "plt.xlabel('epochs')\n",
        "plt.ylabel('accuracy')\n",
        "plt.grid()\n",
        "\n",
        "plt.plot(train_accuracy_list, label='train accuracy')\n",
        "plt.plot(val_accuracy_list, label='validation accuracy')\n",
        "\n",
        "plt.legend()\n",
        "\n",
        "plt.show()"
      ],
      "metadata": {
        "colab": {
          "base_uri": "https://localhost:8080/",
          "height": 472
        },
        "id": "Btw3xaJkMo4Z",
        "outputId": "a827eaa4-f231-4dda-e7bf-b977bee0fbcf"
      },
      "execution_count": 14,
      "outputs": [
        {
          "output_type": "display_data",
          "data": {
            "text/plain": [
              "<Figure size 640x480 with 1 Axes>"
            ],
            "image/png": "[encoded data removed]"
          },
          "metadata": {}
        }
      ]
    },
    {
      "cell_type": "markdown",
      "source": [
        "이미지 데이터는 3차원 텐서\n",
        "\n",
        "높이는 이미지, 세로, 방향, 픽셀 수, 너비는 이미지의 가로 방향 픽셀 수, 채널은 개별적인 데이터라고 말하는 것이 정확(example 흑백 1개, 컬러 3개-영상처리에서 배운 내용)\n",
        "\n",
        "\n",
        "컨볼루션을 하기 위해선 컨볼루션 공식에 따라 입력채널만큼 필터의 개수가 필요함.\n",
        "\n",
        "\n",
        "=> 1개의 필터는 입력채널 개수와 일치하도록 확장되고 확장된 각각의 필터는 대응되는 입력채널에 컨볼루션 연산을 수정하여 특징맵(임시) 생성한 후에 이렇게 생성된 각각의 임시 특징맵을 모두 더하면 1개의 출력채널이 생성."
      ],
      "metadata": {
        "id": "hmNZsIl0OzT8"
      }
    }
  ]
}